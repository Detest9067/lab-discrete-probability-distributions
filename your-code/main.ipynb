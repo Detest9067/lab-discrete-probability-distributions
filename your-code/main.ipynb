{
 "cells": [
  {
   "cell_type": "markdown",
   "metadata": {},
   "source": [
    "# Before your start:\n",
    "\n",
    "    Read the README.md file\n",
    "    Comment as much as you can and use the resources (README.md file)\n",
    "    Happy learning!\n",
    "\n",
    "*Notes:* \n",
    "\n",
    "- Solve the questions with python.\n",
    "\n",
    "- Round the final answer to three decimal places."
   ]
  },
  {
   "cell_type": "markdown",
   "metadata": {},
   "source": [
    "## Bernoulli's Distribution\n",
    "\n",
    "In a basket containing 100 fruits, there are 60 apples and 40 oranges. \n",
    "\n",
    "A fruit is picked randomly from the basket. \n",
    "\n",
    "1. **What is the probability that the fruit is apple?**\n",
    "1. **What is the probability that it is an orange?**"
   ]
  },
  {
   "cell_type": "code",
   "execution_count": 2,
   "metadata": {},
   "outputs": [
    {
     "name": "stdout",
     "output_type": "stream",
     "text": [
      "Probability of picking an apple:  0.6\n",
      "Probability of picking an orange:  0.4\n"
     ]
    }
   ],
   "source": [
    "\"\"\"\n",
    "Calculate:\n",
    "p = probability that the fruit is an apple \n",
    "q = probability that the fruit is an orange\n",
    "\"\"\"\n",
    "\n",
    "# your code here\n",
    "# probability of picking an apple\n",
    "p = 60/100\n",
    "print(\"Probability of picking an apple: \", p)\n",
    "\n",
    "# probability of picking an orange\n",
    "q = 40/100\n",
    "print(\"Probability of picking an orange: \", q)\n"
   ]
  },
  {
   "cell_type": "markdown",
   "metadata": {},
   "source": [
    "Now we take a random sample of 20 fruits from the basket. After each fruit is taken, a new fruit of the same type is replaced in the basket. Therefore, every time we are taking 1 fruit from 100 fruits. \n",
    "\n",
    "1. **What is the probability that the first 5 fruits are all apples?**\n",
    "\n",
    "1. **What is the probability that the first 5 fruits are all apples and the next 15 fruits are all oranges?**\n",
    "\n",
    "You can include the `p` and `q` probabilities you previous calculated in your solution."
   ]
  },
  {
   "cell_type": "code",
   "execution_count": 3,
   "metadata": {},
   "outputs": [
    {
     "name": "stdout",
     "output_type": "stream",
     "text": [
      "Probability of picking 5 apples in a row:  0.07775999999999998\n"
     ]
    }
   ],
   "source": [
    "# your code here\n",
    "five_apples_prob = p ** 5\n",
    "print(\"Probability of picking 5 apples in a row: \", five_apples_prob)\n"
   ]
  },
  {
   "cell_type": "code",
   "execution_count": 5,
   "metadata": {},
   "outputs": [
    {
     "name": "stdout",
     "output_type": "stream",
     "text": [
      "Probability of picking 5 apples and 15 oranges in a row:  8.349416423424006e-08\n"
     ]
    }
   ],
   "source": [
    "# probability of picking 5 apples in a row and 15 oranges in a row\n",
    "fifteen_oranges_prob = q ** 15\n",
    "five_apples_fifteen_oranges_prob = five_apples_prob * fifteen_oranges_prob\n",
    "print(\"Probability of picking 5 apples and 15 oranges in a row: \", five_apples_fifteen_oranges_prob)\n"
   ]
  },
  {
   "cell_type": "markdown",
   "metadata": {},
   "source": [
    "## Binomial Distribution\n",
    "\n",
    "Similar to the above problem, this time again we randomly sample 20 fruits.\n",
    "\n",
    "**What is the probability that this time the sample contains 5 apples and 15 oranges?**\n",
    "\n",
    "Please note that this time the order of the fruits being picked does not matter."
   ]
  },
  {
   "cell_type": "code",
   "execution_count": 6,
   "metadata": {},
   "outputs": [
    {
     "name": "stdout",
     "output_type": "stream",
     "text": [
      "Probability of picking 5 apples and 15 oranges (order does not matter):  1.675713479244708e-06\n"
     ]
    }
   ],
   "source": [
    "# your code here\n",
    "from scipy.stats import binom\n",
    "\n",
    "# define the parameters of the binomial distribution\n",
    "n = 20\n",
    "p = 0.6\n",
    "q = 0.4\n",
    "\n",
    "# calculate the probability of choosing a sample with 5 apples and 15 oranges\n",
    "apple_prob = binom.pmf(5, n, p)\n",
    "orange_prob = binom.pmf(15, n, q)\n",
    "apple_orange_prob = apple_prob * orange_prob\n",
    "print(\"Probability of picking 5 apples and 15 oranges (order does not matter): \", apple_orange_prob)\n"
   ]
  },
  {
   "cell_type": "markdown",
   "metadata": {},
   "source": [
    "In the lesson we also discussed CDF (cumulative distribution function). In the context of the above problem, **what is the probability that less than 5 fruits picked are apples?**\n",
    "\n",
    "Write the formula and calculate the probability below."
   ]
  },
  {
   "cell_type": "code",
   "execution_count": 7,
   "metadata": {},
   "outputs": [
    {
     "name": "stdout",
     "output_type": "stream",
     "text": [
      "Probability of less than 5 fruits picked being apples: 0.0003170311211686302\n"
     ]
    }
   ],
   "source": [
    "\n",
    "n = 20  # sample size\n",
    "p = 0.6  # probability of picking an apple\n",
    "q = 0.4  # probability of picking an orange\n",
    "\n",
    "less_than_5_apples_prob = 0\n",
    "for k in range(5):\n",
    "    less_than_5_apples_prob += binom.pmf(k, n, p)\n",
    "\n",
    "print(\"Probability of less than 5 fruits picked being apples:\", less_than_5_apples_prob)\n"
   ]
  },
  {
   "cell_type": "markdown",
   "metadata": {},
   "source": [
    "**Plot the PDF (probability distributiom function) for the above binomial distribution.**\n",
    "\n",
    "*Hint: The range of x in a binomial distribution is from `0` to `n`.*"
   ]
  },
  {
   "cell_type": "code",
   "execution_count": 15,
   "metadata": {},
   "outputs": [
    {
     "data": {
      "image/png": "[encoded data removed]",
      "text/plain": [
       "<Figure size 432x288 with 1 Axes>"
      ]
     },
     "metadata": {
      "needs_background": "light"
     },
     "output_type": "display_data"
    }
   ],
   "source": [
    "# your code here\n",
    "# Please label the axes and give a title to the plot \n",
    "import matplotlib.pyplot as plt\n",
    "n = 20\n",
    "p = 0.6\n",
    "\n",
    "k_values = range(0, n+1)\n",
    "pmf_values = [binom.pmf(k, n, p) for k in k_values]\n",
    "\n",
    "plt.bar(k_values, pmf_values)\n",
    "plt.title('Binomial Distribution PDF')\n",
    "plt.xlabel('values(k)')\n",
    "plt.ylabel('P(X=k)')\n",
    "plt.show()\n"
   ]
  },
  {
   "cell_type": "markdown",
   "metadata": {},
   "source": [
    "## Poisson Distribution\n",
    "\n",
    "In this challenge you are required to use the Math library in python to solve the problems.\n",
    "\n",
    "In the UEFA champions league tournament, the average number of goals scored in a match is 2.3. \n",
    "\n",
    "**What is the probability that the number of goals scored in a match is 5?**\n",
    "\n",
    "```"
   ]
  },
  {
   "cell_type": "code",
   "execution_count": 10,
   "metadata": {},
   "outputs": [
    {
     "name": "stdout",
     "output_type": "stream",
     "text": [
      "Probability of observing 5 goals in a match: 0.0538\n"
     ]
    }
   ],
   "source": [
    "# your code here \n",
    "import math\n",
    "\n",
    "# Define the parameters of the Poisson distribution\n",
    "lmbda = 2.3   # mean number of goals per match\n",
    "k = 5         # number of goals we want to calculate the probability for\n",
    "\n",
    "# Calculate the probability using the Poisson PMF\n",
    "prob = (lmbda**k * math.exp(-lmbda)) / math.factorial(k)\n",
    "\n",
    "print(\"Probability of observing 5 goals in a match: {:.4f}\".format(prob))\n"
   ]
  },
  {
   "cell_type": "markdown",
   "metadata": {},
   "source": [
    "**Draw a poisson probability distribution plot for the number of goals to be between 0 to 10.**"
   ]
  },
  {
   "cell_type": "code",
   "execution_count": 14,
   "metadata": {},
   "outputs": [
    {
     "data": {
      "image/png": "[encoded data removed]",
      "text/plain": [
       "<Figure size 432x288 with 1 Axes>"
      ]
     },
     "metadata": {
      "needs_background": "light"
     },
     "output_type": "display_data"
    }
   ],
   "source": [
    "from scipy.stats import poisson\n",
    "\n",
    "# parameter of the Poisson distribution\n",
    "mu = 2.3\n",
    "\n",
    "# Generate the PMF values for each value of k\n",
    "k_values = range(0, 11)\n",
    "pmf_values = [poisson.pmf(k, mu) for k in k_values]\n",
    "\n",
    "# Plot the PMF values\n",
    "plt.bar(k_values, pmf_values)\n",
    "plt.title('Poisson Distribution PMF')\n",
    "plt.xlabel('values(k)')\n",
    "plt.ylabel('P(X=k)')\n",
    "plt.show()\n"
   ]
  }
 ],
 "metadata": {
  "kernelspec": {
   "display_name": "Python 3 (ipykernel)",
   "language": "python",
   "name": "python3"
  },
  "language_info": {
   "codemirror_mode": {
    "name": "ipython",
    "version": 3
   },
   "file_extension": ".py",
   "mimetype": "text/x-python",
   "name": "python",
   "nbconvert_exporter": "python",
   "pygments_lexer": "ipython3",
   "version": "3.10.4"
  }
 },
 "nbformat": 4,
 "nbformat_minor": 4
}
